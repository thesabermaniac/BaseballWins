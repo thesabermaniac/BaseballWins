{
  "nbformat": 4,
  "nbformat_minor": 0,
  "metadata": {
    "colab": {
      "name": "ProjectProposal.ipynb",
      "provenance": [],
      "collapsed_sections": []
    },
    "kernelspec": {
      "name": "python3",
      "display_name": "Python 3"
    },
    "language_info": {
      "name": "python"
    }
  },
  "cells": [
    {
      "cell_type": "markdown",
      "metadata": {
        "id": "9S75ZMPxDOgU"
      },
      "source": [
        "# Introduction\n",
        "\n",
        "According to [statista.com](https://www.statista.com/statistics/193466/total-league-revenue-of-the-mlb-since-2005/), Major League Baseball makes close to $10 billion in revenue on a yearly basis, and that number continues to rise. Thus, it becomes of great financial gain to develop a competitive advantage over your opponents.\n",
        "\n",
        "At the end of the day, the statistic that matters the most is Wins and Losses. It's the one number that defines the success of your team. How many games did you win this year? How can you win more games next year? Every team employs a different strategy when it comes to roster construction, but all that matters ultimately is the number in the wins column. This is how teams are judged, and this is how a team can convince fans to pay money to watch them play. Fans want to see a successful team, and a successful team is a team that wins. Thus, if we can figure out how to isolate what separates the good teams from the bad ones, we could have a leg up on the competition."
      ]
    },
    {
      "cell_type": "markdown",
      "metadata": {
        "id": "-pyBi6QYHYIq"
      },
      "source": [
        "# Reasearch Question\n",
        "\n",
        "All that brings us to our research question:\n",
        "\n",
        "> ### Can we predict how many games a team will win in a given year?\n",
        "\n",
        "If we can build a model that is fairly successful in predicting a team's win total given how the team performed in other key statistical categories, we can be well on our way towards isolating the determining factors that make a team successful. This information can then be applied to a club's team-building strategy. It can allow them to focus primarily on the factors that make, and ignore the ones that don't. In doing this, they can significantly cut their payroll and/or build a much more efficient operation. This will ultimately improve their bottom line and allow them to make more money while spending less."
      ]
    },
    {
      "cell_type": "markdown",
      "metadata": {
        "id": "8EYegBmMJEDp"
      },
      "source": [
        "# Data to be Used\n",
        "\n",
        "For this analysis, we're going to be using data from [Lahman's Baseball Database](http://www.seanlahman.com/baseball-archive/statistics/)."
      ]
    },
    {
      "cell_type": "markdown",
      "metadata": {
        "id": "JxZUIyPgJ9e3"
      },
      "source": [
        "# Approach\n",
        "\n",
        "__Data Management:__\n",
        "\n",
        "I've downloaded the csv related to team statistics and stored it in a [GitHub repository](https://github.com/thesabermaniac/BaseballWins/blob/main/Teams.csv). We'll then read that csv file into a Pandas dataframe and work with that. \n",
        "\n",
        "__Statistical Analysis:__\n",
        "\n",
        "We'll use various forms of statistical analysis throughout our project. We're first going to examine our data for missing, incomplete, or incorrect data. The location and importance of the data will determine whether we drop it or impute it. We're probably only going to be analyzing the past 10 years or so, as the further away you get from the present day, the less relevant the data become due to changes in the rules and construction of the league. Thus, any missing or corrupted data before that is immediately at greater risk of being dropped.\n",
        "\n",
        "We're also going to analyze any outliers we come accross and determine if those data points are accurate or faulty. If they're determined to be faulty, we'll have to determine whether to drop or impute that data.\n",
        "\n",
        "Once we've ensured that all our data is legitimate, we'll start our EDA. This will include distribution analysis and correlation analysis using various techniques which will differ depending on whether we're dealing with our numeric or categorical data. We'll also use various visual and graphical aids to help illustrate the analysis. This could include histograms, bar charts, scatter plots, among other options.\n",
        "\n",
        "Once we have a comprehensive understanding of our data, we can move on to our feature engineering. In this section we'll perform various techniques, including recursive feature elimination and variance inflation factor to determine which features would be most useful in our prediction model. This should significantly trim down our dataset to a select few highly predictive features.\n",
        "\n",
        "Once we isolate our most useful features, we can start testing various models. This is accomplished by performing cross validations to various model types and comparing the results. \n",
        "\n",
        "Finally, the model with the best performance metrics will be chosen as our model of choice."
      ]
    }
  ]
}